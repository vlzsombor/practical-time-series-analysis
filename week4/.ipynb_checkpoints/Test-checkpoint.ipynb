{
 "cells": [
  {
   "cell_type": "code",
   "execution_count": null,
   "id": "5807649c",
   "metadata": {},
   "outputs": [],
   "source": [
    "set.seed(2017)"
   ]
  },
  {
   "cell_type": "code",
   "execution_count": 3,
   "id": "b460f13a",
   "metadata": {},
   "outputs": [
    {
     "data": {
      "text/html": [
       "<ol class=list-inline>\n",
       "\t<li>0.333333333333333</li>\n",
       "\t<li>0.5</li>\n",
       "</ol>\n"
      ],
      "text/latex": [
       "\\begin{enumerate*}\n",
       "\\item 0.333333333333333\n",
       "\\item 0.5\n",
       "\\end{enumerate*}\n"
      ],
      "text/markdown": [
       "1. 0.333333333333333\n",
       "2. 0.5\n",
       "\n",
       "\n"
      ],
      "text/plain": [
       "[1] 0.3333333 0.5000000"
      ]
     },
     "metadata": {},
     "output_type": "display_data"
    }
   ],
   "source": [
    "sigma=4\n",
    "phi=NULL\n",
    "phi[1:2]=c(1/3,1/2)\n",
    "phi"
   ]
  },
  {
   "cell_type": "markdown",
   "id": "28b8f2db",
   "metadata": {},
   "source": [
    "##### number of data points"
   ]
  },
  {
   "cell_type": "code",
   "execution_count": 4,
   "id": "38f34f68",
   "metadata": {},
   "outputs": [],
   "source": [
    "n=10000"
   ]
  },
  {
   "cell_type": "markdown",
   "id": "81c527c4",
   "metadata": {},
   "source": []
  }
 ],
 "metadata": {
  "kernelspec": {
   "display_name": "R",
   "language": "R",
   "name": "ir"
  },
  "language_info": {
   "codemirror_mode": "r",
   "file_extension": ".r",
   "mimetype": "text/x-r-source",
   "name": "R",
   "pygments_lexer": "r",
   "version": "3.6.1"
  }
 },
 "nbformat": 4,
 "nbformat_minor": 5
}
