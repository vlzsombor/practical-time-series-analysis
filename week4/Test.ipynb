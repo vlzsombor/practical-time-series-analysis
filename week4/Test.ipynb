{
 "cells": [
  {
   "cell_type": "code",
   "execution_count": 10,
   "id": "99d1436e",
   "metadata": {},
   "outputs": [],
   "source": [
    "set.seed(2017)"
   ]
  },
  {
   "cell_type": "code",
   "execution_count": 3,
   "id": "6cee8040",
   "metadata": {},
   "outputs": [
    {
     "data": {
      "text/html": [
       "<ol class=list-inline>\n",
       "\t<li>0.333333333333333</li>\n",
       "\t<li>0.5</li>\n",
       "</ol>\n"
      ],
      "text/latex": [
       "\\begin{enumerate*}\n",
       "\\item 0.333333333333333\n",
       "\\item 0.5\n",
       "\\end{enumerate*}\n"
      ],
      "text/markdown": [
       "1. 0.333333333333333\n",
       "2. 0.5\n",
       "\n",
       "\n"
      ],
      "text/plain": [
       "[1] 0.3333333 0.5000000"
      ]
     },
     "metadata": {},
     "output_type": "display_data"
    }
   ],
   "source": [
    "sigma=4\n",
    "phi=NULL\n",
    "phi[1:2]=c(1/3,1/2)\n",
    "phi"
   ]
  },
  {
   "cell_type": "markdown",
   "id": "dfa3f120",
   "metadata": {},
   "source": [
    "##### number of data points"
   ]
  },
  {
   "cell_type": "code",
   "execution_count": 4,
   "id": "a9ff8d0f",
   "metadata": {},
   "outputs": [],
   "source": [
    "n=10000"
   ]
  },
  {
   "cell_type": "raw",
   "id": "e8fccca8",
   "metadata": {},
   "source": [
    "simulate ar process"
   ]
  },
  {
   "cell_type": "code",
   "execution_count": 11,
   "id": "d56ac751",
   "metadata": {
    "scrolled": true
   },
   "outputs": [
    {
     "data": {
      "text/html": [
       "<ol class=list-inline>\n",
       "\t<li>4.08768466761998</li>\n",
       "\t<li>5.5984917197062</li>\n",
       "\t<li>3.01929493617705</li>\n",
       "\t<li>2.44235386119014</li>\n",
       "\t<li>5.39830218361194</li>\n",
       "</ol>\n"
      ],
      "text/latex": [
       "\\begin{enumerate*}\n",
       "\\item 4.08768466761998\n",
       "\\item 5.5984917197062\n",
       "\\item 3.01929493617705\n",
       "\\item 2.44235386119014\n",
       "\\item 5.39830218361194\n",
       "\\end{enumerate*}\n"
      ],
      "text/markdown": [
       "1. 4.08768466761998\n",
       "2. 5.5984917197062\n",
       "3. 3.01929493617705\n",
       "4. 2.44235386119014\n",
       "5. 5.39830218361194\n",
       "\n",
       "\n"
      ],
      "text/plain": [
       "[1] 4.087685 5.598492 3.019295 2.442354 5.398302"
      ]
     },
     "metadata": {},
     "output_type": "display_data"
    }
   ],
   "source": [
    "ar.process=arima.sim(n,model=list(ar=c(1/3,1/2)), sd = 4)\n",
    "ar.process[1:5]"
   ]
  },
  {
   "cell_type": "code",
   "execution_count": 12,
   "id": "82567044",
   "metadata": {},
   "outputs": [
    {
     "data": {
      "text/html": [
       "<ol class=list-inline>\n",
       "\t<li>0.681410288563695</li>\n",
       "\t<li>0.725582481184244</li>\n",
       "</ol>\n"
      ],
      "text/latex": [
       "\\begin{enumerate*}\n",
       "\\item 0.681410288563695\n",
       "\\item 0.725582481184244\n",
       "\\end{enumerate*}\n"
      ],
      "text/markdown": [
       "1. 0.681410288563695\n",
       "2. 0.725582481184244\n",
       "\n",
       "\n"
      ],
      "text/plain": [
       "[1] 0.6814103 0.7255825"
      ]
     },
     "metadata": {},
     "output_type": "display_data"
    }
   ],
   "source": [
    "r=NULL\n",
    "r[1:2]=acf(ar.process, plot=F)$acf[2:3]\n",
    "r"
   ]
  },
  {
   "cell_type": "code",
   "execution_count": 13,
   "id": "24672a9d",
   "metadata": {},
   "outputs": [
    {
     "data": {
      "text/plain": [
       "\n",
       "Autocorrelations of series 'ar.process', by lag\n",
       "\n",
       "    0     1     2     3     4     5     6     7     8     9    10    11    12 \n",
       "1.000 0.681 0.726 0.584 0.558 0.479 0.438 0.382 0.346 0.305 0.276 0.246 0.218 \n",
       "   13    14    15    16    17    18    19    20    21    22    23    24    25 \n",
       "0.187 0.171 0.141 0.128 0.112 0.087 0.083 0.068 0.059 0.050 0.039 0.037 0.029 \n",
       "   26    27    28    29    30    31    32    33    34    35    36    37    38 \n",
       "0.031 0.028 0.028 0.026 0.026 0.020 0.019 0.016 0.016 0.018 0.015 0.018 0.010 \n",
       "   39    40 \n",
       "0.012 0.007 "
      ]
     },
     "metadata": {},
     "output_type": "display_data"
    }
   ],
   "source": [
    "acf(ar.process, plot=F)"
   ]
  },
  {
   "cell_type": "markdown",
   "id": "d478b735",
   "metadata": {},
   "source": [
    "### matrix R"
   ]
  },
  {
   "cell_type": "code",
   "execution_count": 15,
   "id": "247fbb8b",
   "metadata": {},
   "outputs": [
    {
     "data": {
      "text/html": [
       "<table>\n",
       "<tbody>\n",
       "\t<tr><td>1</td><td>1</td></tr>\n",
       "\t<tr><td>1</td><td>1</td></tr>\n",
       "</tbody>\n",
       "</table>\n"
      ],
      "text/latex": [
       "\\begin{tabular}{ll}\n",
       "\t 1 & 1\\\\\n",
       "\t 1 & 1\\\\\n",
       "\\end{tabular}\n"
      ],
      "text/markdown": [
       "\n",
       "| 1 | 1 |\n",
       "| 1 | 1 |\n",
       "\n"
      ],
      "text/plain": [
       "     [,1] [,2]\n",
       "[1,] 1    1   \n",
       "[2,] 1    1   "
      ]
     },
     "metadata": {},
     "output_type": "display_data"
    }
   ],
   "source": [
    "R=matrix(1,2,2)\n",
    "R"
   ]
  },
  {
   "cell_type": "code",
   "execution_count": 16,
   "id": "ea1ba623",
   "metadata": {},
   "outputs": [
    {
     "data": {
      "text/html": [
       "<table>\n",
       "<tbody>\n",
       "\t<tr><td>1.0000000</td><td>0.6814103</td></tr>\n",
       "\t<tr><td>0.6814103</td><td>1.0000000</td></tr>\n",
       "</tbody>\n",
       "</table>\n"
      ],
      "text/latex": [
       "\\begin{tabular}{ll}\n",
       "\t 1.0000000 & 0.6814103\\\\\n",
       "\t 0.6814103 & 1.0000000\\\\\n",
       "\\end{tabular}\n"
      ],
      "text/markdown": [
       "\n",
       "| 1.0000000 | 0.6814103 |\n",
       "| 0.6814103 | 1.0000000 |\n",
       "\n"
      ],
      "text/plain": [
       "     [,1]      [,2]     \n",
       "[1,] 1.0000000 0.6814103\n",
       "[2,] 0.6814103 1.0000000"
      ]
     },
     "metadata": {},
     "output_type": "display_data"
    }
   ],
   "source": [
    "R[1,2]=r[1]\n",
    "R[2,1]=r[1]\n",
    "R"
   ]
  },
  {
   "cell_type": "markdown",
   "id": "ff1393f7",
   "metadata": {},
   "source": [
    "### b-column vector on the right"
   ]
  },
  {
   "cell_type": "code",
   "execution_count": 17,
   "id": "84b51bb0",
   "metadata": {},
   "outputs": [
    {
     "data": {
      "text/html": [
       "<table>\n",
       "<tbody>\n",
       "\t<tr><td>0.6814103</td></tr>\n",
       "\t<tr><td>0.7255825</td></tr>\n",
       "</tbody>\n",
       "</table>\n"
      ],
      "text/latex": [
       "\\begin{tabular}{l}\n",
       "\t 0.6814103\\\\\n",
       "\t 0.7255825\\\\\n",
       "\\end{tabular}\n"
      ],
      "text/markdown": [
       "\n",
       "| 0.6814103 |\n",
       "| 0.7255825 |\n",
       "\n"
      ],
      "text/plain": [
       "     [,1]     \n",
       "[1,] 0.6814103\n",
       "[2,] 0.7255825"
      ]
     },
     "metadata": {},
     "output_type": "display_data"
    }
   ],
   "source": [
    "b=matrix(r,nrow=2, ncol=1)\n",
    "b"
   ]
  },
  {
   "cell_type": "markdown",
   "id": "0e969d3b",
   "metadata": {},
   "source": [
    "solve r,b"
   ]
  },
  {
   "cell_type": "code",
   "execution_count": 18,
   "id": "09022d1a",
   "metadata": {},
   "outputs": [
    {
     "data": {
      "text/html": [
       "<table>\n",
       "<tbody>\n",
       "\t<tr><td>0.3490720</td></tr>\n",
       "\t<tr><td>0.4877212</td></tr>\n",
       "</tbody>\n",
       "</table>\n"
      ],
      "text/latex": [
       "\\begin{tabular}{l}\n",
       "\t 0.3490720\\\\\n",
       "\t 0.4877212\\\\\n",
       "\\end{tabular}\n"
      ],
      "text/markdown": [
       "\n",
       "| 0.3490720 |\n",
       "| 0.4877212 |\n",
       "\n"
      ],
      "text/plain": [
       "     [,1]     \n",
       "[1,] 0.3490720\n",
       "[2,] 0.4877212"
      ]
     },
     "metadata": {},
     "output_type": "display_data"
    }
   ],
   "source": [
    "phi.hat=matrix(c(solve(R,b)[1,1], solve(R,b)[2,1]), 2, 1)\n",
    "phi.hat"
   ]
  },
  {
   "cell_type": "code",
   "execution_count": 20,
   "id": "b93b252e",
   "metadata": {},
   "outputs": [
    {
     "data": {
      "text/html": [
       "16.3716899100558"
      ],
      "text/latex": [
       "16.3716899100558"
      ],
      "text/markdown": [
       "16.3716899100558"
      ],
      "text/plain": [
       "[1] 16.37169"
      ]
     },
     "metadata": {},
     "output_type": "display_data"
    }
   ],
   "source": [
    "c0 = acf(ar.process, type='covariance', plot=F)$acf[1]\n",
    "var.hat=c0*(1-sum(phi.hat*r))\n",
    "var.hat"
   ]
  },
  {
   "cell_type": "markdown",
   "id": "e109a5d4",
   "metadata": {},
   "source": [
    "### varaince estimation"
   ]
  },
  {
   "cell_type": "code",
   "execution_count": 21,
   "id": "116e9224",
   "metadata": {},
   "outputs": [
    {
     "data": {
      "image/png": "[encoded data removed]",
      "text/plain": [
       "Plot with title \"Pacf\""
      ]
     },
     "metadata": {},
     "output_type": "display_data"
    }
   ],
   "source": [
    "par(mfrow=c(3,1))\n",
    "plot(ar.process, main='Simulated AR(2)')\n",
    "acf(ar.process, main='ACF')\n",
    "pacf(ar.process, main='Pacf')"
   ]
  }
 ],
 "metadata": {
  "kernelspec": {
   "display_name": "R",
   "language": "R",
   "name": "ir"
  },
  "language_info": {
   "codemirror_mode": "r",
   "file_extension": ".r",
   "mimetype": "text/x-r-source",
   "name": "R",
   "pygments_lexer": "r",
   "version": "3.6.1"
  }
 },
 "nbformat": 4,
 "nbformat_minor": 5
}
